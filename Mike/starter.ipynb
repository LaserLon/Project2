{
 "cells": [
  {
   "cell_type": "code",
   "execution_count": 19,
   "metadata": {},
   "outputs": [],
   "source": [
    "# Import required dependencies\n",
    "import pandas as pd\n",
    "from sklearn.model_selection import train_test_split\n",
    "from sklearn.metrics import accuracy_score\n",
    "from sklearn.preprocessing import OneHotEncoder, LabelEncoder\n",
    "from sklearn.linear_model import LogisticRegression\n",
    "from sklearn.svm import SVC \n",
    "from sklearn.neighbors import KNeighborsClassifier\n",
    "from sklearn.tree import DecisionTreeClassifier\n",
    "from sklearn.ensemble import RandomForestClassifier\n",
    "\n",
    "from sklearn.preprocessing import StandardScaler, LabelEncoder\n",
    "from sklearn.metrics import r2_score\n",
    "import matplotlib.pyplot as plt"
   ]
  },
  {
   "cell_type": "code",
   "execution_count": 20,
   "metadata": {},
   "outputs": [
    {
     "data": {
      "text/html": [
       "<div>\n",
       "<style scoped>\n",
       "    .dataframe tbody tr th:only-of-type {\n",
       "        vertical-align: middle;\n",
       "    }\n",
       "\n",
       "    .dataframe tbody tr th {\n",
       "        vertical-align: top;\n",
       "    }\n",
       "\n",
       "    .dataframe thead th {\n",
       "        text-align: right;\n",
       "    }\n",
       "</style>\n",
       "<table border=\"1\" class=\"dataframe\">\n",
       "  <thead>\n",
       "    <tr style=\"text-align: right;\">\n",
       "      <th></th>\n",
       "      <th>PlayerID</th>\n",
       "      <th>Age</th>\n",
       "      <th>Gender</th>\n",
       "      <th>Location</th>\n",
       "      <th>GameGenre</th>\n",
       "      <th>PlayTimeHours</th>\n",
       "      <th>InGamePurchases</th>\n",
       "      <th>GameDifficulty</th>\n",
       "      <th>SessionsPerWeek</th>\n",
       "      <th>AvgSessionDurationMinutes</th>\n",
       "      <th>PlayerLevel</th>\n",
       "      <th>AchievementsUnlocked</th>\n",
       "      <th>EngagementLevel</th>\n",
       "    </tr>\n",
       "  </thead>\n",
       "  <tbody>\n",
       "    <tr>\n",
       "      <th>0</th>\n",
       "      <td>9000</td>\n",
       "      <td>43</td>\n",
       "      <td>Male</td>\n",
       "      <td>Other</td>\n",
       "      <td>Strategy</td>\n",
       "      <td>16.271119</td>\n",
       "      <td>0</td>\n",
       "      <td>Medium</td>\n",
       "      <td>6</td>\n",
       "      <td>108</td>\n",
       "      <td>79</td>\n",
       "      <td>25</td>\n",
       "      <td>Medium</td>\n",
       "    </tr>\n",
       "    <tr>\n",
       "      <th>1</th>\n",
       "      <td>9001</td>\n",
       "      <td>29</td>\n",
       "      <td>Female</td>\n",
       "      <td>USA</td>\n",
       "      <td>Strategy</td>\n",
       "      <td>5.525961</td>\n",
       "      <td>0</td>\n",
       "      <td>Medium</td>\n",
       "      <td>5</td>\n",
       "      <td>144</td>\n",
       "      <td>11</td>\n",
       "      <td>10</td>\n",
       "      <td>Medium</td>\n",
       "    </tr>\n",
       "    <tr>\n",
       "      <th>2</th>\n",
       "      <td>9002</td>\n",
       "      <td>22</td>\n",
       "      <td>Female</td>\n",
       "      <td>USA</td>\n",
       "      <td>Sports</td>\n",
       "      <td>8.223755</td>\n",
       "      <td>0</td>\n",
       "      <td>Easy</td>\n",
       "      <td>16</td>\n",
       "      <td>142</td>\n",
       "      <td>35</td>\n",
       "      <td>41</td>\n",
       "      <td>High</td>\n",
       "    </tr>\n",
       "    <tr>\n",
       "      <th>3</th>\n",
       "      <td>9003</td>\n",
       "      <td>35</td>\n",
       "      <td>Male</td>\n",
       "      <td>USA</td>\n",
       "      <td>Action</td>\n",
       "      <td>5.265351</td>\n",
       "      <td>1</td>\n",
       "      <td>Easy</td>\n",
       "      <td>9</td>\n",
       "      <td>85</td>\n",
       "      <td>57</td>\n",
       "      <td>47</td>\n",
       "      <td>Medium</td>\n",
       "    </tr>\n",
       "    <tr>\n",
       "      <th>4</th>\n",
       "      <td>9004</td>\n",
       "      <td>33</td>\n",
       "      <td>Male</td>\n",
       "      <td>Europe</td>\n",
       "      <td>Action</td>\n",
       "      <td>15.531945</td>\n",
       "      <td>0</td>\n",
       "      <td>Medium</td>\n",
       "      <td>2</td>\n",
       "      <td>131</td>\n",
       "      <td>95</td>\n",
       "      <td>37</td>\n",
       "      <td>Medium</td>\n",
       "    </tr>\n",
       "  </tbody>\n",
       "</table>\n",
       "</div>"
      ],
      "text/plain": [
       "   PlayerID  Age  Gender Location GameGenre  PlayTimeHours  InGamePurchases  \\\n",
       "0      9000   43    Male    Other  Strategy      16.271119                0   \n",
       "1      9001   29  Female      USA  Strategy       5.525961                0   \n",
       "2      9002   22  Female      USA    Sports       8.223755                0   \n",
       "3      9003   35    Male      USA    Action       5.265351                1   \n",
       "4      9004   33    Male   Europe    Action      15.531945                0   \n",
       "\n",
       "  GameDifficulty  SessionsPerWeek  AvgSessionDurationMinutes  PlayerLevel  \\\n",
       "0         Medium                6                        108           79   \n",
       "1         Medium                5                        144           11   \n",
       "2           Easy               16                        142           35   \n",
       "3           Easy                9                         85           57   \n",
       "4         Medium                2                        131           95   \n",
       "\n",
       "   AchievementsUnlocked EngagementLevel  \n",
       "0                    25          Medium  \n",
       "1                    10          Medium  \n",
       "2                    41            High  \n",
       "3                    47          Medium  \n",
       "4                    37          Medium  "
      ]
     },
     "execution_count": 20,
     "metadata": {},
     "output_type": "execute_result"
    }
   ],
   "source": [
    "# Import data\n",
    "file_path = \"../Project2/data/online_gaming_behavior_dataset.csv\"\n",
    "df = pd.read_csv(file_path)\n",
    "df.head()"
   ]
  },
  {
   "cell_type": "code",
   "execution_count": 21,
   "metadata": {},
   "outputs": [
    {
     "name": "stdout",
     "output_type": "stream",
     "text": [
      "<class 'pandas.core.frame.DataFrame'>\n",
      "RangeIndex: 40034 entries, 0 to 40033\n",
      "Data columns (total 13 columns):\n",
      " #   Column                     Non-Null Count  Dtype  \n",
      "---  ------                     --------------  -----  \n",
      " 0   PlayerID                   40034 non-null  int64  \n",
      " 1   Age                        40034 non-null  int64  \n",
      " 2   Gender                     40034 non-null  object \n",
      " 3   Location                   40034 non-null  object \n",
      " 4   GameGenre                  40034 non-null  object \n",
      " 5   PlayTimeHours              40034 non-null  float64\n",
      " 6   InGamePurchases            40034 non-null  int64  \n",
      " 7   GameDifficulty             40034 non-null  object \n",
      " 8   SessionsPerWeek            40034 non-null  int64  \n",
      " 9   AvgSessionDurationMinutes  40034 non-null  int64  \n",
      " 10  PlayerLevel                40034 non-null  int64  \n",
      " 11  AchievementsUnlocked       40034 non-null  int64  \n",
      " 12  EngagementLevel            40034 non-null  object \n",
      "dtypes: float64(1), int64(7), object(5)\n",
      "memory usage: 4.0+ MB\n"
     ]
    }
   ],
   "source": [
    "# Get df info\n",
    "df.info()"
   ]
  },
  {
   "cell_type": "markdown",
   "metadata": {},
   "source": [
    "Looking at the content of the data frame DF, we see that we have a combination of numeric and string columns."
   ]
  },
  {
   "cell_type": "code",
   "execution_count": 22,
   "metadata": {},
   "outputs": [
    {
     "data": {
      "text/plain": [
       "PlayerID                     0\n",
       "Age                          0\n",
       "Gender                       0\n",
       "Location                     0\n",
       "GameGenre                    0\n",
       "PlayTimeHours                0\n",
       "InGamePurchases              0\n",
       "GameDifficulty               0\n",
       "SessionsPerWeek              0\n",
       "AvgSessionDurationMinutes    0\n",
       "PlayerLevel                  0\n",
       "AchievementsUnlocked         0\n",
       "EngagementLevel              0\n",
       "dtype: int64"
      ]
     },
     "execution_count": 22,
     "metadata": {},
     "output_type": "execute_result"
    }
   ],
   "source": [
    "# check for NA's\n",
    "df.isna().sum()"
   ]
  },
  {
   "cell_type": "code",
   "execution_count": 23,
   "metadata": {},
   "outputs": [
    {
     "data": {
      "text/html": [
       "<div>\n",
       "<style scoped>\n",
       "    .dataframe tbody tr th:only-of-type {\n",
       "        vertical-align: middle;\n",
       "    }\n",
       "\n",
       "    .dataframe tbody tr th {\n",
       "        vertical-align: top;\n",
       "    }\n",
       "\n",
       "    .dataframe thead th {\n",
       "        text-align: right;\n",
       "    }\n",
       "</style>\n",
       "<table border=\"1\" class=\"dataframe\">\n",
       "  <thead>\n",
       "    <tr style=\"text-align: right;\">\n",
       "      <th></th>\n",
       "      <th>Age</th>\n",
       "      <th>Gender</th>\n",
       "      <th>Location</th>\n",
       "      <th>GameGenre</th>\n",
       "      <th>PlayTimeHours</th>\n",
       "      <th>InGamePurchases</th>\n",
       "      <th>GameDifficulty</th>\n",
       "      <th>SessionsPerWeek</th>\n",
       "      <th>AvgSessionDurationMinutes</th>\n",
       "      <th>PlayerLevel</th>\n",
       "      <th>AchievementsUnlocked</th>\n",
       "    </tr>\n",
       "  </thead>\n",
       "  <tbody>\n",
       "    <tr>\n",
       "      <th>0</th>\n",
       "      <td>43</td>\n",
       "      <td>Male</td>\n",
       "      <td>Other</td>\n",
       "      <td>Strategy</td>\n",
       "      <td>16.271119</td>\n",
       "      <td>0</td>\n",
       "      <td>Medium</td>\n",
       "      <td>6</td>\n",
       "      <td>108</td>\n",
       "      <td>79</td>\n",
       "      <td>25</td>\n",
       "    </tr>\n",
       "    <tr>\n",
       "      <th>1</th>\n",
       "      <td>29</td>\n",
       "      <td>Female</td>\n",
       "      <td>USA</td>\n",
       "      <td>Strategy</td>\n",
       "      <td>5.525961</td>\n",
       "      <td>0</td>\n",
       "      <td>Medium</td>\n",
       "      <td>5</td>\n",
       "      <td>144</td>\n",
       "      <td>11</td>\n",
       "      <td>10</td>\n",
       "    </tr>\n",
       "    <tr>\n",
       "      <th>2</th>\n",
       "      <td>22</td>\n",
       "      <td>Female</td>\n",
       "      <td>USA</td>\n",
       "      <td>Sports</td>\n",
       "      <td>8.223755</td>\n",
       "      <td>0</td>\n",
       "      <td>Easy</td>\n",
       "      <td>16</td>\n",
       "      <td>142</td>\n",
       "      <td>35</td>\n",
       "      <td>41</td>\n",
       "    </tr>\n",
       "    <tr>\n",
       "      <th>3</th>\n",
       "      <td>35</td>\n",
       "      <td>Male</td>\n",
       "      <td>USA</td>\n",
       "      <td>Action</td>\n",
       "      <td>5.265351</td>\n",
       "      <td>1</td>\n",
       "      <td>Easy</td>\n",
       "      <td>9</td>\n",
       "      <td>85</td>\n",
       "      <td>57</td>\n",
       "      <td>47</td>\n",
       "    </tr>\n",
       "    <tr>\n",
       "      <th>4</th>\n",
       "      <td>33</td>\n",
       "      <td>Male</td>\n",
       "      <td>Europe</td>\n",
       "      <td>Action</td>\n",
       "      <td>15.531945</td>\n",
       "      <td>0</td>\n",
       "      <td>Medium</td>\n",
       "      <td>2</td>\n",
       "      <td>131</td>\n",
       "      <td>95</td>\n",
       "      <td>37</td>\n",
       "    </tr>\n",
       "  </tbody>\n",
       "</table>\n",
       "</div>"
      ],
      "text/plain": [
       "   Age  Gender Location GameGenre  PlayTimeHours  InGamePurchases  \\\n",
       "0   43    Male    Other  Strategy      16.271119                0   \n",
       "1   29  Female      USA  Strategy       5.525961                0   \n",
       "2   22  Female      USA    Sports       8.223755                0   \n",
       "3   35    Male      USA    Action       5.265351                1   \n",
       "4   33    Male   Europe    Action      15.531945                0   \n",
       "\n",
       "  GameDifficulty  SessionsPerWeek  AvgSessionDurationMinutes  PlayerLevel  \\\n",
       "0         Medium                6                        108           79   \n",
       "1         Medium                5                        144           11   \n",
       "2           Easy               16                        142           35   \n",
       "3           Easy                9                         85           57   \n",
       "4         Medium                2                        131           95   \n",
       "\n",
       "   AchievementsUnlocked  \n",
       "0                    25  \n",
       "1                    10  \n",
       "2                    41  \n",
       "3                    47  \n",
       "4                    37  "
      ]
     },
     "execution_count": 23,
     "metadata": {},
     "output_type": "execute_result"
    }
   ],
   "source": [
    "# assign y to EngangementLevel\n",
    "y = df['EngagementLevel']\n",
    "df = df.drop(columns=['EngagementLevel','PlayerID'])\n",
    "df.head()\n"
   ]
  },
  {
   "cell_type": "code",
   "execution_count": 24,
   "metadata": {},
   "outputs": [
    {
     "data": {
      "text/plain": [
       "array([0, 1], dtype=int64)"
      ]
     },
     "execution_count": 24,
     "metadata": {},
     "output_type": "execute_result"
    }
   ],
   "source": [
    "df['InGamePurchases'].unique()"
   ]
  },
  {
   "cell_type": "code",
   "execution_count": 25,
   "metadata": {},
   "outputs": [
    {
     "data": {
      "text/plain": [
       "array([2, 2, 0, ..., 0, 2, 2])"
      ]
     },
     "execution_count": 25,
     "metadata": {},
     "output_type": "execute_result"
    }
   ],
   "source": [
    "le = LabelEncoder()\n",
    "y = le.fit_transform(y)\n",
    "y"
   ]
  },
  {
   "cell_type": "code",
   "execution_count": 26,
   "metadata": {},
   "outputs": [
    {
     "data": {
      "text/plain": [
       "array(['High', 'Low', 'Medium'], dtype=object)"
      ]
     },
     "execution_count": 26,
     "metadata": {},
     "output_type": "execute_result"
    }
   ],
   "source": [
    "# list classes\n",
    "le.classes_"
   ]
  },
  {
   "cell_type": "code",
   "execution_count": 27,
   "metadata": {},
   "outputs": [
    {
     "data": {
      "text/plain": [
       "array(['High'], dtype=object)"
      ]
     },
     "execution_count": 27,
     "metadata": {},
     "output_type": "execute_result"
    }
   ],
   "source": [
    "# lookup classes by number\n",
    "le.inverse_transform([0])"
   ]
  },
  {
   "cell_type": "code",
   "execution_count": 28,
   "metadata": {},
   "outputs": [
    {
     "name": "stdout",
     "output_type": "stream",
     "text": [
      "unique Gender: ['Male' 'Female']\n",
      "unique Location: ['Other' 'USA' 'Europe' 'Asia']\n",
      "unique GameGenre: ['Strategy' 'Sports' 'Action' 'RPG' 'Simulation']\n",
      "unique GameDifficulty: ['Medium' 'Easy' 'Hard']\n"
     ]
    }
   ],
   "source": [
    "# look at unique values in object columns\n",
    "obj_col = []\n",
    "for col in df.columns:\n",
    "    if df[col].dtype == 'object':\n",
    "        print(f\"unique {col}: {df[col].unique()}\")\n",
    "        obj_col.append(col)"
   ]
  },
  {
   "cell_type": "code",
   "execution_count": 29,
   "metadata": {},
   "outputs": [
    {
     "data": {
      "text/html": [
       "<div>\n",
       "<style scoped>\n",
       "    .dataframe tbody tr th:only-of-type {\n",
       "        vertical-align: middle;\n",
       "    }\n",
       "\n",
       "    .dataframe tbody tr th {\n",
       "        vertical-align: top;\n",
       "    }\n",
       "\n",
       "    .dataframe thead th {\n",
       "        text-align: right;\n",
       "    }\n",
       "</style>\n",
       "<table border=\"1\" class=\"dataframe\">\n",
       "  <thead>\n",
       "    <tr style=\"text-align: right;\">\n",
       "      <th></th>\n",
       "      <th>Age</th>\n",
       "      <th>PlayTimeHours</th>\n",
       "      <th>InGamePurchases</th>\n",
       "      <th>SessionsPerWeek</th>\n",
       "      <th>AvgSessionDurationMinutes</th>\n",
       "      <th>PlayerLevel</th>\n",
       "      <th>AchievementsUnlocked</th>\n",
       "      <th>Gender_Male</th>\n",
       "      <th>Location_Europe</th>\n",
       "      <th>Location_Other</th>\n",
       "      <th>Location_USA</th>\n",
       "      <th>GameGenre_RPG</th>\n",
       "      <th>GameGenre_Simulation</th>\n",
       "      <th>GameGenre_Sports</th>\n",
       "      <th>GameGenre_Strategy</th>\n",
       "      <th>GameDifficulty_Hard</th>\n",
       "      <th>GameDifficulty_Medium</th>\n",
       "    </tr>\n",
       "  </thead>\n",
       "  <tbody>\n",
       "    <tr>\n",
       "      <th>0</th>\n",
       "      <td>43</td>\n",
       "      <td>16.271119</td>\n",
       "      <td>0</td>\n",
       "      <td>6</td>\n",
       "      <td>108</td>\n",
       "      <td>79</td>\n",
       "      <td>25</td>\n",
       "      <td>1</td>\n",
       "      <td>0</td>\n",
       "      <td>1</td>\n",
       "      <td>0</td>\n",
       "      <td>0</td>\n",
       "      <td>0</td>\n",
       "      <td>0</td>\n",
       "      <td>1</td>\n",
       "      <td>0</td>\n",
       "      <td>1</td>\n",
       "    </tr>\n",
       "    <tr>\n",
       "      <th>1</th>\n",
       "      <td>29</td>\n",
       "      <td>5.525961</td>\n",
       "      <td>0</td>\n",
       "      <td>5</td>\n",
       "      <td>144</td>\n",
       "      <td>11</td>\n",
       "      <td>10</td>\n",
       "      <td>0</td>\n",
       "      <td>0</td>\n",
       "      <td>0</td>\n",
       "      <td>1</td>\n",
       "      <td>0</td>\n",
       "      <td>0</td>\n",
       "      <td>0</td>\n",
       "      <td>1</td>\n",
       "      <td>0</td>\n",
       "      <td>1</td>\n",
       "    </tr>\n",
       "    <tr>\n",
       "      <th>2</th>\n",
       "      <td>22</td>\n",
       "      <td>8.223755</td>\n",
       "      <td>0</td>\n",
       "      <td>16</td>\n",
       "      <td>142</td>\n",
       "      <td>35</td>\n",
       "      <td>41</td>\n",
       "      <td>0</td>\n",
       "      <td>0</td>\n",
       "      <td>0</td>\n",
       "      <td>1</td>\n",
       "      <td>0</td>\n",
       "      <td>0</td>\n",
       "      <td>1</td>\n",
       "      <td>0</td>\n",
       "      <td>0</td>\n",
       "      <td>0</td>\n",
       "    </tr>\n",
       "    <tr>\n",
       "      <th>3</th>\n",
       "      <td>35</td>\n",
       "      <td>5.265351</td>\n",
       "      <td>1</td>\n",
       "      <td>9</td>\n",
       "      <td>85</td>\n",
       "      <td>57</td>\n",
       "      <td>47</td>\n",
       "      <td>1</td>\n",
       "      <td>0</td>\n",
       "      <td>0</td>\n",
       "      <td>1</td>\n",
       "      <td>0</td>\n",
       "      <td>0</td>\n",
       "      <td>0</td>\n",
       "      <td>0</td>\n",
       "      <td>0</td>\n",
       "      <td>0</td>\n",
       "    </tr>\n",
       "    <tr>\n",
       "      <th>4</th>\n",
       "      <td>33</td>\n",
       "      <td>15.531945</td>\n",
       "      <td>0</td>\n",
       "      <td>2</td>\n",
       "      <td>131</td>\n",
       "      <td>95</td>\n",
       "      <td>37</td>\n",
       "      <td>1</td>\n",
       "      <td>1</td>\n",
       "      <td>0</td>\n",
       "      <td>0</td>\n",
       "      <td>0</td>\n",
       "      <td>0</td>\n",
       "      <td>0</td>\n",
       "      <td>0</td>\n",
       "      <td>0</td>\n",
       "      <td>1</td>\n",
       "    </tr>\n",
       "    <tr>\n",
       "      <th>...</th>\n",
       "      <td>...</td>\n",
       "      <td>...</td>\n",
       "      <td>...</td>\n",
       "      <td>...</td>\n",
       "      <td>...</td>\n",
       "      <td>...</td>\n",
       "      <td>...</td>\n",
       "      <td>...</td>\n",
       "      <td>...</td>\n",
       "      <td>...</td>\n",
       "      <td>...</td>\n",
       "      <td>...</td>\n",
       "      <td>...</td>\n",
       "      <td>...</td>\n",
       "      <td>...</td>\n",
       "      <td>...</td>\n",
       "      <td>...</td>\n",
       "    </tr>\n",
       "    <tr>\n",
       "      <th>40029</th>\n",
       "      <td>32</td>\n",
       "      <td>20.619662</td>\n",
       "      <td>0</td>\n",
       "      <td>4</td>\n",
       "      <td>75</td>\n",
       "      <td>85</td>\n",
       "      <td>14</td>\n",
       "      <td>1</td>\n",
       "      <td>0</td>\n",
       "      <td>0</td>\n",
       "      <td>1</td>\n",
       "      <td>0</td>\n",
       "      <td>0</td>\n",
       "      <td>0</td>\n",
       "      <td>1</td>\n",
       "      <td>0</td>\n",
       "      <td>0</td>\n",
       "    </tr>\n",
       "    <tr>\n",
       "      <th>40030</th>\n",
       "      <td>44</td>\n",
       "      <td>13.539280</td>\n",
       "      <td>0</td>\n",
       "      <td>19</td>\n",
       "      <td>114</td>\n",
       "      <td>71</td>\n",
       "      <td>27</td>\n",
       "      <td>0</td>\n",
       "      <td>0</td>\n",
       "      <td>1</td>\n",
       "      <td>0</td>\n",
       "      <td>0</td>\n",
       "      <td>1</td>\n",
       "      <td>0</td>\n",
       "      <td>0</td>\n",
       "      <td>1</td>\n",
       "      <td>0</td>\n",
       "    </tr>\n",
       "    <tr>\n",
       "      <th>40031</th>\n",
       "      <td>15</td>\n",
       "      <td>0.240057</td>\n",
       "      <td>1</td>\n",
       "      <td>10</td>\n",
       "      <td>176</td>\n",
       "      <td>29</td>\n",
       "      <td>1</td>\n",
       "      <td>0</td>\n",
       "      <td>0</td>\n",
       "      <td>0</td>\n",
       "      <td>1</td>\n",
       "      <td>1</td>\n",
       "      <td>0</td>\n",
       "      <td>0</td>\n",
       "      <td>0</td>\n",
       "      <td>0</td>\n",
       "      <td>0</td>\n",
       "    </tr>\n",
       "    <tr>\n",
       "      <th>40032</th>\n",
       "      <td>34</td>\n",
       "      <td>14.017818</td>\n",
       "      <td>1</td>\n",
       "      <td>3</td>\n",
       "      <td>128</td>\n",
       "      <td>70</td>\n",
       "      <td>10</td>\n",
       "      <td>1</td>\n",
       "      <td>0</td>\n",
       "      <td>0</td>\n",
       "      <td>1</td>\n",
       "      <td>0</td>\n",
       "      <td>0</td>\n",
       "      <td>1</td>\n",
       "      <td>0</td>\n",
       "      <td>0</td>\n",
       "      <td>1</td>\n",
       "    </tr>\n",
       "    <tr>\n",
       "      <th>40033</th>\n",
       "      <td>19</td>\n",
       "      <td>10.083804</td>\n",
       "      <td>0</td>\n",
       "      <td>13</td>\n",
       "      <td>84</td>\n",
       "      <td>72</td>\n",
       "      <td>39</td>\n",
       "      <td>1</td>\n",
       "      <td>0</td>\n",
       "      <td>0</td>\n",
       "      <td>1</td>\n",
       "      <td>0</td>\n",
       "      <td>0</td>\n",
       "      <td>1</td>\n",
       "      <td>0</td>\n",
       "      <td>0</td>\n",
       "      <td>0</td>\n",
       "    </tr>\n",
       "  </tbody>\n",
       "</table>\n",
       "<p>40034 rows × 17 columns</p>\n",
       "</div>"
      ],
      "text/plain": [
       "       Age  PlayTimeHours  InGamePurchases  SessionsPerWeek  \\\n",
       "0       43      16.271119                0                6   \n",
       "1       29       5.525961                0                5   \n",
       "2       22       8.223755                0               16   \n",
       "3       35       5.265351                1                9   \n",
       "4       33      15.531945                0                2   \n",
       "...    ...            ...              ...              ...   \n",
       "40029   32      20.619662                0                4   \n",
       "40030   44      13.539280                0               19   \n",
       "40031   15       0.240057                1               10   \n",
       "40032   34      14.017818                1                3   \n",
       "40033   19      10.083804                0               13   \n",
       "\n",
       "       AvgSessionDurationMinutes  PlayerLevel  AchievementsUnlocked  \\\n",
       "0                            108           79                    25   \n",
       "1                            144           11                    10   \n",
       "2                            142           35                    41   \n",
       "3                             85           57                    47   \n",
       "4                            131           95                    37   \n",
       "...                          ...          ...                   ...   \n",
       "40029                         75           85                    14   \n",
       "40030                        114           71                    27   \n",
       "40031                        176           29                     1   \n",
       "40032                        128           70                    10   \n",
       "40033                         84           72                    39   \n",
       "\n",
       "       Gender_Male  Location_Europe  Location_Other  Location_USA  \\\n",
       "0                1                0               1             0   \n",
       "1                0                0               0             1   \n",
       "2                0                0               0             1   \n",
       "3                1                0               0             1   \n",
       "4                1                1               0             0   \n",
       "...            ...              ...             ...           ...   \n",
       "40029            1                0               0             1   \n",
       "40030            0                0               1             0   \n",
       "40031            0                0               0             1   \n",
       "40032            1                0               0             1   \n",
       "40033            1                0               0             1   \n",
       "\n",
       "       GameGenre_RPG  GameGenre_Simulation  GameGenre_Sports  \\\n",
       "0                  0                     0                 0   \n",
       "1                  0                     0                 0   \n",
       "2                  0                     0                 1   \n",
       "3                  0                     0                 0   \n",
       "4                  0                     0                 0   \n",
       "...              ...                   ...               ...   \n",
       "40029              0                     0                 0   \n",
       "40030              0                     1                 0   \n",
       "40031              1                     0                 0   \n",
       "40032              0                     0                 1   \n",
       "40033              0                     0                 1   \n",
       "\n",
       "       GameGenre_Strategy  GameDifficulty_Hard  GameDifficulty_Medium  \n",
       "0                       1                    0                      1  \n",
       "1                       1                    0                      1  \n",
       "2                       0                    0                      0  \n",
       "3                       0                    0                      0  \n",
       "4                       0                    0                      1  \n",
       "...                   ...                  ...                    ...  \n",
       "40029                   1                    0                      0  \n",
       "40030                   0                    1                      0  \n",
       "40031                   0                    0                      0  \n",
       "40032                   0                    0                      1  \n",
       "40033                   0                    0                      0  \n",
       "\n",
       "[40034 rows x 17 columns]"
      ]
     },
     "execution_count": 29,
     "metadata": {},
     "output_type": "execute_result"
    }
   ],
   "source": [
    "\n",
    "# encoded columns with objects to numeric values, get_dummies\n",
    "df_encoded = df.copy()\n",
    "df_encoded = pd.get_dummies(df_encoded,columns= obj_col,dtype='int',drop_first=True)\n",
    "X = df_encoded\n",
    "X"
   ]
  },
  {
   "cell_type": "code",
   "execution_count": 30,
   "metadata": {},
   "outputs": [
    {
     "name": "stdout",
     "output_type": "stream",
     "text": [
      "<class 'pandas.core.frame.DataFrame'>\n",
      "RangeIndex: 40034 entries, 0 to 40033\n",
      "Data columns (total 17 columns):\n",
      " #   Column                     Non-Null Count  Dtype  \n",
      "---  ------                     --------------  -----  \n",
      " 0   Age                        40034 non-null  int64  \n",
      " 1   PlayTimeHours              40034 non-null  float64\n",
      " 2   InGamePurchases            40034 non-null  int64  \n",
      " 3   SessionsPerWeek            40034 non-null  int64  \n",
      " 4   AvgSessionDurationMinutes  40034 non-null  int64  \n",
      " 5   PlayerLevel                40034 non-null  int64  \n",
      " 6   AchievementsUnlocked       40034 non-null  int64  \n",
      " 7   Gender_Male                40034 non-null  int32  \n",
      " 8   Location_Europe            40034 non-null  int32  \n",
      " 9   Location_Other             40034 non-null  int32  \n",
      " 10  Location_USA               40034 non-null  int32  \n",
      " 11  GameGenre_RPG              40034 non-null  int32  \n",
      " 12  GameGenre_Simulation       40034 non-null  int32  \n",
      " 13  GameGenre_Sports           40034 non-null  int32  \n",
      " 14  GameGenre_Strategy         40034 non-null  int32  \n",
      " 15  GameDifficulty_Hard        40034 non-null  int32  \n",
      " 16  GameDifficulty_Medium      40034 non-null  int32  \n",
      "dtypes: float64(1), int32(10), int64(6)\n",
      "memory usage: 3.7 MB\n"
     ]
    }
   ],
   "source": [
    "\n",
    "X.info()"
   ]
  },
  {
   "cell_type": "code",
   "execution_count": 31,
   "metadata": {},
   "outputs": [],
   "source": [
    "\n",
    "# Split the data into training and testing sets using random_state=365\n",
    "X_train, X_test, y_train, y_test = train_test_split(X, y, random_state=365)"
   ]
  },
  {
   "cell_type": "code",
   "execution_count": 32,
   "metadata": {},
   "outputs": [
    {
     "data": {
      "text/plain": [
       "array([[-0.49680109, -0.78441908, -0.50088452, ..., -0.50239271,\n",
       "         2.        , -0.65493921],\n",
       "       [-0.99512579,  1.63174671, -0.50088452, ...,  1.99047476,\n",
       "        -0.5       , -0.65493921],\n",
       "       [ 0.69917818,  1.16638518, -0.50088452, ..., -0.50239271,\n",
       "        -0.5       ,  1.52685927],\n",
       "       ...,\n",
       "       [-0.69613097, -1.05925066, -0.50088452, ..., -0.50239271,\n",
       "        -0.5       , -0.65493921],\n",
       "       [ 1.69582757,  1.35944018, -0.50088452, ..., -0.50239271,\n",
       "        -0.5       , -0.65493921],\n",
       "       [-0.39713615, -1.35445716, -0.50088452, ..., -0.50239271,\n",
       "        -0.5       ,  1.52685927]])"
      ]
     },
     "execution_count": 32,
     "metadata": {},
     "output_type": "execute_result"
    }
   ],
   "source": [
    "# Scale columns for X_train and X_test\n",
    "scale_col = ['Age','PlayTimeHours','SessionsPerWeek','AvgSessionDurationMinutes','PlayerLevel','AchievementsUnlocked']\n",
    "scaler = StandardScaler().fit(X_train)\n",
    "X_train_scaled = scaler.transform(X_train)\n",
    "X_test_scaled = scaler.transform(X_test)\n",
    "X_test_scaled"
   ]
  },
  {
   "cell_type": "code",
   "execution_count": 33,
   "metadata": {},
   "outputs": [],
   "source": [
    "# # linear regression model\n",
    "# lr = LogisticRegression()\n",
    "# lr.fit(X_train_scaled,y_train)\n",
    "# #predicted_y = lr.predict(X_test_scaled)"
   ]
  },
  {
   "cell_type": "code",
   "execution_count": 34,
   "metadata": {},
   "outputs": [],
   "source": [
    "# # Validate the model by checking the model accuracy with model.score\n",
    "# print(f\"Training Data Score: {lr.score(X_train_scaled, y_train)}\")\n",
    "# print(f\"Testing Data Score: {lr.score(X_test_scaled, y_test)}\")"
   ]
  },
  {
   "cell_type": "code",
   "execution_count": 35,
   "metadata": {},
   "outputs": [],
   "source": [
    "# score = round(lr.score(X_train, y_train, sample_weight=None),5) \n",
    "# r2 = round(r2_score(y_test, predicted_y),5)\n",
    "# #mse = round(mean_squared_error(y_test, predicted_y),4)\n",
    "# #rmse = round(np.sqrt(mse),4)\n",
    "# score\n",
    "# r2"
   ]
  },
  {
   "cell_type": "code",
   "execution_count": 36,
   "metadata": {},
   "outputs": [
    {
     "name": "stdout",
     "output_type": "stream",
     "text": [
      "k: 1, Train/Test Score: 1.000/0.641\n",
      "k: 3, Train/Test Score: 0.838/0.669\n",
      "k: 5, Train/Test Score: 0.805/0.683\n",
      "k: 7, Train/Test Score: 0.794/0.698\n",
      "k: 9, Train/Test Score: 0.787/0.712\n",
      "k: 11, Train/Test Score: 0.779/0.715\n",
      "k: 13, Train/Test Score: 0.775/0.724\n",
      "k: 15, Train/Test Score: 0.771/0.726\n",
      "k: 17, Train/Test Score: 0.769/0.729\n",
      "k: 19, Train/Test Score: 0.766/0.727\n",
      "k: 21, Train/Test Score: 0.766/0.729\n",
      "k: 23, Train/Test Score: 0.762/0.730\n",
      "k: 25, Train/Test Score: 0.759/0.731\n",
      "k: 27, Train/Test Score: 0.758/0.732\n",
      "k: 29, Train/Test Score: 0.755/0.732\n",
      "k: 31, Train/Test Score: 0.753/0.729\n",
      "k: 33, Train/Test Score: 0.752/0.729\n",
      "k: 35, Train/Test Score: 0.750/0.730\n",
      "k: 37, Train/Test Score: 0.747/0.729\n",
      "k: 39, Train/Test Score: 0.745/0.729\n"
     ]
    },
    {
     "data": {
      "image/png": "[encoded data removed]",
      "text/plain": [
       "<Figure size 1200x1000 with 1 Axes>"
      ]
     },
     "metadata": {},
     "output_type": "display_data"
    }
   ],
   "source": [
    "\n",
    "# Loop through different k values to find which has the highest accuracy.\n",
    "\n",
    "train_scores = []\n",
    "test_scores = []\n",
    "\n",
    "for k in range(1, 40, 2):\n",
    "    knn = KNeighborsClassifier(n_neighbors=k)\n",
    "    knn.fit(X_train_scaled, y_train)\n",
    "    train_score = knn.score(X_train_scaled, y_train)\n",
    "    test_score = knn.score(X_test_scaled, y_test)\n",
    "    train_scores.append(train_score)\n",
    "    test_scores.append(test_score)\n",
    "    print(f\"k: {k}, Train/Test Score: {train_score:.3f}/{test_score:.3f}\")\n",
    "    \n",
    "# Plot the results\n",
    "plt.figure(figsize=(12,10))\n",
    "plt.plot(range(1, 40, 2), train_scores, marker='o', label=\"training scores\")\n",
    "plt.plot(range(1, 40, 2), test_scores, marker=\"x\", label=\"testing scores\")\n",
    "plt.xlabel(\"k neighbors\")\n",
    "plt.ylabel(\"accuracy score\")\n",
    "plt.legend()\n",
    "plt.show()"
   ]
  },
  {
   "cell_type": "code",
   "execution_count": 42,
   "metadata": {},
   "outputs": [],
   "source": [
    "#setup models\n",
    "\n",
    "knn_model = KNeighborsClassifier(n_neighbors=27)\n",
    "lr_model = LogisticRegression(random_state=1)\n",
    "svm_model = SVC(kernel='linear')\n",
    "dt_model = DecisionTreeClassifier()\n",
    "rf_model = RandomForestClassifier(n_estimators=128, random_state=1)"
   ]
  },
  {
   "cell_type": "code",
   "execution_count": 45,
   "metadata": {},
   "outputs": [],
   "source": [
    "df_scores = pd.DataFrame()\n",
    "\n",
    "def validate_model(model, X_train, y_train, X_test, y_test):\n",
    "    train_accuracy = model.score(X_train, y_train)\n",
    "    test_accuracy = model.score(X_test, y_test)\n",
    "    y_predict = knn_model.predict(X_test_scaled)\n",
    "    r2 = round(r2_score(y_test,y_predict),5)\n",
    "    return train_accuracy, test_accuracy, r2\n",
    "\n",
    "def collectResults( model_label, train_acc, test_acc, r2):\n",
    "    df_scores[model_label] = [train_acc, test_acc, abs(test_acc-train_acc),r2]\n",
    "    print (df_scores)"
   ]
  },
  {
   "cell_type": "code",
   "execution_count": 46,
   "metadata": {},
   "outputs": [
    {
     "ename": "NotFittedError",
     "evalue": "This KNeighborsClassifier instance is not fitted yet. Call 'fit' with appropriate arguments before using this estimator.",
     "output_type": "error",
     "traceback": [
      "\u001b[1;31m---------------------------------------------------------------------------\u001b[0m",
      "\u001b[1;31mNotFittedError\u001b[0m                            Traceback (most recent call last)",
      "Cell \u001b[1;32mIn[46], line 3\u001b[0m\n\u001b[0;32m      1\u001b[0m \u001b[38;5;66;03m# Logistic regression\u001b[39;00m\n\u001b[0;32m      2\u001b[0m lr_model\u001b[38;5;241m.\u001b[39mfit(X_train_scaled, y_train)\n\u001b[1;32m----> 3\u001b[0m train_acc, test_acc \u001b[38;5;241m=\u001b[39m \u001b[43mvalidate_model\u001b[49m\u001b[43m \u001b[49m\u001b[43m(\u001b[49m\u001b[43mlr_model\u001b[49m\u001b[43m,\u001b[49m\u001b[43mX_train_scaled\u001b[49m\u001b[43m,\u001b[49m\u001b[43m \u001b[49m\u001b[43my_train\u001b[49m\u001b[43m,\u001b[49m\u001b[43m \u001b[49m\u001b[43mX_test_scaled\u001b[49m\u001b[43m,\u001b[49m\u001b[43m \u001b[49m\u001b[43my_test\u001b[49m\u001b[43m)\u001b[49m\n\u001b[0;32m      4\u001b[0m collectResults(\u001b[38;5;124m\"\u001b[39m\u001b[38;5;124mLR\u001b[39m\u001b[38;5;124m\"\u001b[39m,train_acc,test_acc)\n",
      "Cell \u001b[1;32mIn[45], line 6\u001b[0m, in \u001b[0;36mvalidate_model\u001b[1;34m(model, X_train, y_train, X_test, y_test)\u001b[0m\n\u001b[0;32m      4\u001b[0m train_accuracy \u001b[38;5;241m=\u001b[39m model\u001b[38;5;241m.\u001b[39mscore(X_train, y_train)\n\u001b[0;32m      5\u001b[0m test_accuracy \u001b[38;5;241m=\u001b[39m model\u001b[38;5;241m.\u001b[39mscore(X_test, y_test)\n\u001b[1;32m----> 6\u001b[0m y_predict \u001b[38;5;241m=\u001b[39m \u001b[43mknn_model\u001b[49m\u001b[38;5;241;43m.\u001b[39;49m\u001b[43mpredict\u001b[49m\u001b[43m(\u001b[49m\u001b[43mX_test_scaled\u001b[49m\u001b[43m)\u001b[49m\n\u001b[0;32m      7\u001b[0m r2 \u001b[38;5;241m=\u001b[39m \u001b[38;5;28mround\u001b[39m(r2_score(y_test,y_predict),\u001b[38;5;241m5\u001b[39m)\n\u001b[0;32m      8\u001b[0m \u001b[38;5;28;01mreturn\u001b[39;00m train_accuracy, test_accuracy, r2\n",
      "File \u001b[1;32mc:\\Users\\saund\\anaconda3\\envs\\dev\\lib\\site-packages\\sklearn\\neighbors\\_classification.py:254\u001b[0m, in \u001b[0;36mKNeighborsClassifier.predict\u001b[1;34m(self, X)\u001b[0m\n\u001b[0;32m    240\u001b[0m \u001b[38;5;28;01mdef\u001b[39;00m \u001b[38;5;21mpredict\u001b[39m(\u001b[38;5;28mself\u001b[39m, X):\n\u001b[0;32m    241\u001b[0m \u001b[38;5;250m    \u001b[39m\u001b[38;5;124;03m\"\"\"Predict the class labels for the provided data.\u001b[39;00m\n\u001b[0;32m    242\u001b[0m \n\u001b[0;32m    243\u001b[0m \u001b[38;5;124;03m    Parameters\u001b[39;00m\n\u001b[1;32m   (...)\u001b[0m\n\u001b[0;32m    252\u001b[0m \u001b[38;5;124;03m        Class labels for each data sample.\u001b[39;00m\n\u001b[0;32m    253\u001b[0m \u001b[38;5;124;03m    \"\"\"\u001b[39;00m\n\u001b[1;32m--> 254\u001b[0m     \u001b[43mcheck_is_fitted\u001b[49m\u001b[43m(\u001b[49m\u001b[38;5;28;43mself\u001b[39;49m\u001b[43m,\u001b[49m\u001b[43m \u001b[49m\u001b[38;5;124;43m\"\u001b[39;49m\u001b[38;5;124;43m_fit_method\u001b[39;49m\u001b[38;5;124;43m\"\u001b[39;49m\u001b[43m)\u001b[49m\n\u001b[0;32m    255\u001b[0m     \u001b[38;5;28;01mif\u001b[39;00m \u001b[38;5;28mself\u001b[39m\u001b[38;5;241m.\u001b[39mweights \u001b[38;5;241m==\u001b[39m \u001b[38;5;124m\"\u001b[39m\u001b[38;5;124muniform\u001b[39m\u001b[38;5;124m\"\u001b[39m:\n\u001b[0;32m    256\u001b[0m         \u001b[38;5;28;01mif\u001b[39;00m \u001b[38;5;28mself\u001b[39m\u001b[38;5;241m.\u001b[39m_fit_method \u001b[38;5;241m==\u001b[39m \u001b[38;5;124m\"\u001b[39m\u001b[38;5;124mbrute\u001b[39m\u001b[38;5;124m\"\u001b[39m \u001b[38;5;129;01mand\u001b[39;00m ArgKminClassMode\u001b[38;5;241m.\u001b[39mis_usable_for(\n\u001b[0;32m    257\u001b[0m             X, \u001b[38;5;28mself\u001b[39m\u001b[38;5;241m.\u001b[39m_fit_X, \u001b[38;5;28mself\u001b[39m\u001b[38;5;241m.\u001b[39mmetric\n\u001b[0;32m    258\u001b[0m         ):\n",
      "File \u001b[1;32mc:\\Users\\saund\\anaconda3\\envs\\dev\\lib\\site-packages\\sklearn\\utils\\validation.py:1622\u001b[0m, in \u001b[0;36mcheck_is_fitted\u001b[1;34m(estimator, attributes, msg, all_or_any)\u001b[0m\n\u001b[0;32m   1619\u001b[0m     \u001b[38;5;28;01mraise\u001b[39;00m \u001b[38;5;167;01mTypeError\u001b[39;00m(\u001b[38;5;124m\"\u001b[39m\u001b[38;5;132;01m%s\u001b[39;00m\u001b[38;5;124m is not an estimator instance.\u001b[39m\u001b[38;5;124m\"\u001b[39m \u001b[38;5;241m%\u001b[39m (estimator))\n\u001b[0;32m   1621\u001b[0m \u001b[38;5;28;01mif\u001b[39;00m \u001b[38;5;129;01mnot\u001b[39;00m _is_fitted(estimator, attributes, all_or_any):\n\u001b[1;32m-> 1622\u001b[0m     \u001b[38;5;28;01mraise\u001b[39;00m NotFittedError(msg \u001b[38;5;241m%\u001b[39m {\u001b[38;5;124m\"\u001b[39m\u001b[38;5;124mname\u001b[39m\u001b[38;5;124m\"\u001b[39m: \u001b[38;5;28mtype\u001b[39m(estimator)\u001b[38;5;241m.\u001b[39m\u001b[38;5;18m__name__\u001b[39m})\n",
      "\u001b[1;31mNotFittedError\u001b[0m: This KNeighborsClassifier instance is not fitted yet. Call 'fit' with appropriate arguments before using this estimator."
     ]
    }
   ],
   "source": [
    "\n",
    "# Logistic regression\n",
    "lr_model.fit(X_train_scaled, y_train)\n",
    "train_acc, test_acc = validate_model (lr_model,X_train_scaled, y_train, X_test_scaled, y_test)\n",
    "collectResults(\"LR\",train_acc,test_acc)"
   ]
  },
  {
   "cell_type": "markdown",
   "metadata": {},
   "source": [
    "0: High\n",
    "1: Medium\n",
    "2: Low"
   ]
  },
  {
   "cell_type": "code",
   "execution_count": 40,
   "metadata": {},
   "outputs": [
    {
     "name": "stdout",
     "output_type": "stream",
     "text": [
      "         LR       KNN\n",
      "0  0.824979  0.758235\n",
      "1  0.820961  0.732241\n",
      "2  0.004018  0.025994\n"
     ]
    }
   ],
   "source": [
    "knn_model.fit(X_train_scaled,y_train)\n",
    "train_acc, test_acc = validate_model (knn_model,X_train_scaled, y_train, X_test_scaled, y_test)\n",
    "collectResults(\"KNN\",train_acc,test_acc)"
   ]
  },
  {
   "cell_type": "code",
   "execution_count": 41,
   "metadata": {},
   "outputs": [
    {
     "data": {
      "text/plain": [
       "0.16483"
      ]
     },
     "execution_count": 41,
     "metadata": {},
     "output_type": "execute_result"
    }
   ],
   "source": [
    "y_predict = knn_model.predict(X_test_scaled)\n",
    "r2 = round(r2_score(y_test,y_predict),5)\n",
    "r2"
   ]
  },
  {
   "cell_type": "code",
   "execution_count": null,
   "metadata": {},
   "outputs": [],
   "source": []
  }
 ],
 "metadata": {
  "kernelspec": {
   "display_name": "dev",
   "language": "python",
   "name": "python3"
  },
  "language_info": {
   "codemirror_mode": {
    "name": "ipython",
    "version": 3
   },
   "file_extension": ".py",
   "mimetype": "text/x-python",
   "name": "python",
   "nbconvert_exporter": "python",
   "pygments_lexer": "ipython3",
   "version": "3.10.14"
  }
 },
 "nbformat": 4,
 "nbformat_minor": 2
}
